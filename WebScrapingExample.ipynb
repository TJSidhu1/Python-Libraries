{
  "nbformat": 4,
  "nbformat_minor": 0,
  "metadata": {
    "colab": {
      "provenance": [],
      "authorship_tag": "ABX9TyN3YHFDK0w7DjV6gf71Fx9x",
      "include_colab_link": true
    },
    "kernelspec": {
      "name": "python3",
      "display_name": "Python 3"
    },
    "language_info": {
      "name": "python"
    }
  },
  "cells": [
    {
      "cell_type": "markdown",
      "metadata": {
        "id": "view-in-github",
        "colab_type": "text"
      },
      "source": [
        "<a href=\"https://colab.research.google.com/github/TJSidhu1/Python-Libraries/blob/main/WebScrapingExample.ipynb\" target=\"_parent\"><img src=\"https://colab.research.google.com/assets/colab-badge.svg\" alt=\"Open In Colab\"/></a>"
      ]
    },
    {
      "cell_type": "code",
      "execution_count": 4,
      "metadata": {
        "colab": {
          "base_uri": "https://localhost:8080/"
        },
        "id": "Wp0_QNFOwEq2",
        "outputId": "84130a62-8deb-422a-dc7d-b11817a7fc20"
      },
      "outputs": [
        {
          "output_type": "stream",
          "name": "stdout",
          "text": [
            "Requirement already satisfied: requests in /usr/local/lib/python3.11/dist-packages (2.32.3)\n",
            "Requirement already satisfied: charset-normalizer<4,>=2 in /usr/local/lib/python3.11/dist-packages (from requests) (3.4.1)\n",
            "Requirement already satisfied: idna<4,>=2.5 in /usr/local/lib/python3.11/dist-packages (from requests) (3.10)\n",
            "Requirement already satisfied: urllib3<3,>=1.21.1 in /usr/local/lib/python3.11/dist-packages (from requests) (2.3.0)\n",
            "Requirement already satisfied: certifi>=2017.4.17 in /usr/local/lib/python3.11/dist-packages (from requests) (2025.1.31)\n",
            "Requirement already satisfied: beautifulsoup4 in /usr/local/lib/python3.11/dist-packages (4.13.3)\n",
            "Requirement already satisfied: soupsieve>1.2 in /usr/local/lib/python3.11/dist-packages (from beautifulsoup4) (2.6)\n",
            "Requirement already satisfied: typing-extensions>=4.0.0 in /usr/local/lib/python3.11/dist-packages (from beautifulsoup4) (4.13.1)\n"
          ]
        }
      ],
      "source": [
        "! pip install requests\n",
        "! pip install beautifulsoup4"
      ]
    },
    {
      "cell_type": "code",
      "source": [
        "import requests\n",
        "from bs4 import BeautifulSoup"
      ],
      "metadata": {
        "id": "d6GKwpFkwXw3"
      },
      "execution_count": 5,
      "outputs": []
    },
    {
      "cell_type": "code",
      "source": [
        "url = \"https://books.toscrape.com/\"\n",
        "response = requests.get(url)\n",
        "soup = BeautifulSoup(response.text, \"html.parser\")"
      ],
      "metadata": {
        "id": "D8pDdFecxlTm"
      },
      "execution_count": 8,
      "outputs": []
    },
    {
      "cell_type": "code",
      "source": [
        "books = soup.find_all(\"article\", class_=\"product_pod\")"
      ],
      "metadata": {
        "id": "PItk8LeEzXQz"
      },
      "execution_count": 15,
      "outputs": []
    },
    {
      "cell_type": "code",
      "source": [
        "for book in books:\n",
        "  price = book.find(\"p\", class_=\"price_color\").text\n",
        "  # title = book.find(\"h3\").text\n",
        "  title = book.h3.a[\"title\"]\n",
        "  availability = book.find(\"p\", class_=\"instock availability\").text.strip()\n",
        "  print(f\"Title: {title} | Price: {price} | Availability: {availability}\")\n",
        ""
      ],
      "metadata": {
        "colab": {
          "base_uri": "https://localhost:8080/"
        },
        "id": "GRrWCITOz1_w",
        "outputId": "c9d4022b-63c9-4df2-bab3-a1adada92e69"
      },
      "execution_count": 20,
      "outputs": [
        {
          "output_type": "stream",
          "name": "stdout",
          "text": [
            "Title: A Light in the Attic | Price: Â£51.77 | Availability: In stock\n",
            "Title: Tipping the Velvet | Price: Â£53.74 | Availability: In stock\n",
            "Title: Soumission | Price: Â£50.10 | Availability: In stock\n",
            "Title: Sharp Objects | Price: Â£47.82 | Availability: In stock\n",
            "Title: Sapiens: A Brief History of Humankind | Price: Â£54.23 | Availability: In stock\n",
            "Title: The Requiem Red | Price: Â£22.65 | Availability: In stock\n",
            "Title: The Dirty Little Secrets of Getting Your Dream Job | Price: Â£33.34 | Availability: In stock\n",
            "Title: The Coming Woman: A Novel Based on the Life of the Infamous Feminist, Victoria Woodhull | Price: Â£17.93 | Availability: In stock\n",
            "Title: The Boys in the Boat: Nine Americans and Their Epic Quest for Gold at the 1936 Berlin Olympics | Price: Â£22.60 | Availability: In stock\n",
            "Title: The Black Maria | Price: Â£52.15 | Availability: In stock\n",
            "Title: Starving Hearts (Triangular Trade Trilogy, #1) | Price: Â£13.99 | Availability: In stock\n",
            "Title: Shakespeare's Sonnets | Price: Â£20.66 | Availability: In stock\n",
            "Title: Set Me Free | Price: Â£17.46 | Availability: In stock\n",
            "Title: Scott Pilgrim's Precious Little Life (Scott Pilgrim #1) | Price: Â£52.29 | Availability: In stock\n",
            "Title: Rip it Up and Start Again | Price: Â£35.02 | Availability: In stock\n",
            "Title: Our Band Could Be Your Life: Scenes from the American Indie Underground, 1981-1991 | Price: Â£57.25 | Availability: In stock\n",
            "Title: Olio | Price: Â£23.88 | Availability: In stock\n",
            "Title: Mesaerion: The Best Science Fiction Stories 1800-1849 | Price: Â£37.59 | Availability: In stock\n",
            "Title: Libertarianism for Beginners | Price: Â£51.33 | Availability: In stock\n",
            "Title: It's Only the Himalayas | Price: Â£45.17 | Availability: In stock\n"
          ]
        }
      ]
    }
  ]
}